{
 "cells": [
  {
   "cell_type": "code",
   "execution_count": 38,
   "id": "f3b35010-4dac-485c-82a5-23e4e4384a6b",
   "metadata": {},
   "outputs": [],
   "source": [
    "import pandas as pd\n",
    "import numpy as np\n",
    "import pickle as pkl\n",
    "import xgboost as xgb"
   ]
  },
  {
   "cell_type": "code",
   "execution_count": 63,
   "id": "aca3e6fb-7cbe-44e0-8308-1536c745d6f5",
   "metadata": {},
   "outputs": [],
   "source": [
    "results = pkl.load(open(\"../results/ist3/model_selection.pkl\", \"rb\"))"
   ]
  },
  {
   "cell_type": "code",
   "execution_count": 64,
   "id": "5a7057ca-daf1-4db0-b9a0-cc9493913118",
   "metadata": {},
   "outputs": [
    {
     "name": "stdout",
     "output_type": "stream",
     "text": [
      "XLearner\n",
      "XLearner if_pehe 10.283402302764674\n",
      "XLearner pseudo_outcome_r 0.04579735719617524\n",
      "XLearner pseudo_outcome_dr 0.09190736354001233\n",
      "DRLearner\n",
      "DRLearner if_pehe 17.25073258461358\n",
      "DRLearner pseudo_outcome_r 0.05943752400029999\n",
      "DRLearner pseudo_outcome_dr 0.11905753622188002\n",
      "SLearner\n",
      "SLearner if_pehe 6.603826351319571\n",
      "SLearner pseudo_outcome_r 0.0367111590868117\n",
      "SLearner pseudo_outcome_dr 0.0736431013658913\n",
      "TLearner\n",
      "TLearner if_pehe 25.775143487561955\n",
      "TLearner pseudo_outcome_r 0.0717606396018427\n",
      "TLearner pseudo_outcome_dr 0.14359767171729088\n"
     ]
    }
   ],
   "source": [
    "for learner, learner_results in results.items():\n",
    "    print(learner)\n",
    "    \n",
    "    for sec in [\"if_pehe\", \"pseudo_outcome_r\", \"pseudo_outcome_dr\"]:\n",
    "        \n",
    "        print(learner, sec, np.mean(learner_results[sec]))\n",
    "    "
   ]
  },
  {
   "cell_type": "code",
   "execution_count": null,
   "id": "d94608e7-9a18-4639-8834-25e5fb0caf1b",
   "metadata": {},
   "outputs": [],
   "source": []
  }
 ],
 "metadata": {
  "kernelspec": {
   "display_name": "Python 3 (ipykernel)",
   "language": "python",
   "name": "python3"
  },
  "language_info": {
   "codemirror_mode": {
    "name": "ipython",
    "version": 3
   },
   "file_extension": ".py",
   "mimetype": "text/x-python",
   "name": "python",
   "nbconvert_exporter": "python",
   "pygments_lexer": "ipython3",
   "version": "3.8.13"
  }
 },
 "nbformat": 4,
 "nbformat_minor": 5
}
