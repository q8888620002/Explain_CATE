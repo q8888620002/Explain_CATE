{
 "cells": [
  {
   "cell_type": "code",
   "execution_count": 89,
   "id": "f3b35010-4dac-485c-82a5-23e4e4384a6b",
   "metadata": {},
   "outputs": [
    {
     "name": "stderr",
     "output_type": "stream",
     "text": [
      "/homes/gws/mingyulu/miniconda3/envs/torch_gpu/lib/python3.8/site-packages/tqdm/auto.py:21: TqdmWarning: IProgress not found. Please update jupyter and ipywidgets. See https://ipywidgets.readthedocs.io/en/stable/user_install.html\n",
      "  from .autonotebook import tqdm as notebook_tqdm\n"
     ]
    }
   ],
   "source": [
    "import pandas as pd\n",
    "import numpy as np\n",
    "import pickle as pkl\n",
    "import os,sys\n",
    "\n",
    "module_path = os.path.abspath(os.path.join('../CATENets/'))\n",
    "if module_path not in sys.path:\n",
    "    sys.path.append(module_path)\n",
    "\n",
    "import catenets.models.torch.pseudo_outcome_nets as pseudo_outcome_nets"
   ]
  },
  {
   "cell_type": "code",
   "execution_count": 85,
   "id": "aca3e6fb-7cbe-44e0-8308-1536c745d6f5",
   "metadata": {},
   "outputs": [],
   "source": [
    "# shuffle = True\n",
    "\n",
    "results = pkl.load(open(\"../results/sprint/model_selection_shuffle_True.pkl\", \"rb\"))"
   ]
  },
  {
   "cell_type": "code",
   "execution_count": 86,
   "id": "5a7057ca-daf1-4db0-b9a0-cc9493913118",
   "metadata": {},
   "outputs": [
    {
     "name": "stdout",
     "output_type": "stream",
     "text": [
      "XLearner\n",
      "XLearner if_pehe -7.3220899479682515 34.360372304324876\n",
      "XLearner pseudo_outcome_r 0.2634781399338269 0.011139601581523356\n",
      "XLearner pseudo_outcome_dr 0.513934977042968 0.023511302666828632\n",
      "DRLearner\n",
      "DRLearner if_pehe 29.67226623077074 39.091255350510934\n",
      "DRLearner pseudo_outcome_r 0.26831529017633643 0.011595430158978242\n",
      "DRLearner pseudo_outcome_dr 0.5244584839026472 0.024418306858262285\n",
      "SLearner\n",
      "SLearner if_pehe -42.61655667012481 32.45610126811392\n",
      "SLearner pseudo_outcome_r 0.25930062103608326 0.012011401540573443\n",
      "SLearner pseudo_outcome_dr 0.5052254059353722 0.02521167590587563\n",
      "TLearner\n",
      "TLearner if_pehe -21.003707193449806 23.69559224625513\n",
      "TLearner pseudo_outcome_r 0.2603571344652835 0.011854579936811273\n",
      "TLearner pseudo_outcome_dr 0.5076786762534126 0.02483914441698314\n",
      "RLearner\n",
      "RLearner if_pehe -36.36550233005499 32.49211077481245\n",
      "RLearner pseudo_outcome_r 0.26003925500210373 0.012012430783341615\n",
      "RLearner pseudo_outcome_dr 0.5071391428750776 0.025252498758941894\n",
      "RALearner\n",
      "RALearner if_pehe -34.477303426108435 31.114980036539126\n",
      "RALearner pseudo_outcome_r 0.25966565388800106 0.012046768767639143\n",
      "RALearner pseudo_outcome_dr 0.5063006507466178 0.025430873420195302\n",
      "TARNet\n",
      "TARNet if_pehe 8.171902325974205 22.86262137337835\n",
      "TARNet pseudo_outcome_r 0.2588427426234058 0.01188370854561373\n",
      "TARNet pseudo_outcome_dr 0.5042673725053757 0.025040566859036495\n",
      "DragonNet\n",
      "DragonNet if_pehe 8.142206592023035 23.047329362152965\n",
      "DragonNet pseudo_outcome_r 0.2588952733977389 0.011889167457763946\n",
      "DragonNet pseudo_outcome_dr 0.5043613972345671 0.025030330463318047\n",
      "CFRNet_0.01\n",
      "CFRNet_0.01 if_pehe 7.872633254782315 22.698090129223814\n",
      "CFRNet_0.01 pseudo_outcome_r 0.2588942967238865 0.011899090236917795\n",
      "CFRNet_0.01 pseudo_outcome_dr 0.5043735037176368 0.025070414154952668\n",
      "CFRNet_0.001\n",
      "CFRNet_0.001 if_pehe 7.720278926004551 22.922457247920537\n",
      "CFRNet_0.001 pseudo_outcome_r 0.2588736825178616 0.011875586620147512\n",
      "CFRNet_0.001 pseudo_outcome_dr 0.5043116180525024 0.02498991365921307\n"
     ]
    }
   ],
   "source": [
    "for learner, learner_results in results.items():\n",
    "    print(learner)\n",
    "    \n",
    "    for sec in [\"if_pehe\", \"pseudo_outcome_r\", \"pseudo_outcome_dr\"]:\n",
    "        \n",
    "        print(learner, sec, np.mean(learner_results[sec]), np.std(learner_results[sec]))\n",
    "    "
   ]
  },
  {
   "cell_type": "code",
   "execution_count": null,
   "id": "d94608e7-9a18-4639-8834-25e5fb0caf1b",
   "metadata": {},
   "outputs": [],
   "source": []
  }
 ],
 "metadata": {
  "kernelspec": {
   "display_name": "Python 3 (ipykernel)",
   "language": "python",
   "name": "python3"
  },
  "language_info": {
   "codemirror_mode": {
    "name": "ipython",
    "version": 3
   },
   "file_extension": ".py",
   "mimetype": "text/x-python",
   "name": "python",
   "nbconvert_exporter": "python",
   "pygments_lexer": "ipython3",
   "version": "3.8.13"
  }
 },
 "nbformat": 4,
 "nbformat_minor": 5
}
