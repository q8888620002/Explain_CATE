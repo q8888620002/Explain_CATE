{
 "cells": [
  {
   "cell_type": "code",
   "execution_count": 38,
   "id": "f3b35010-4dac-485c-82a5-23e4e4384a6b",
   "metadata": {},
   "outputs": [],
   "source": [
    "import pandas as pd\n",
    "import numpy as np\n",
    "import pickle as pkl\n",
    "import xgboost as xgb"
   ]
  },
  {
   "cell_type": "code",
   "execution_count": 59,
   "id": "aca3e6fb-7cbe-44e0-8308-1536c745d6f5",
   "metadata": {},
   "outputs": [],
   "source": [
    "results = pkl.load(open(\"../results/massive_trans/model_selection.pkl\", \"rb\"))\n",
    "\n"
   ]
  },
  {
   "cell_type": "code",
   "execution_count": 60,
   "id": "5a7057ca-daf1-4db0-b9a0-cc9493913118",
   "metadata": {},
   "outputs": [
    {
     "name": "stdout",
     "output_type": "stream",
     "text": [
      "XLearner\n",
      "XLearner if_pehe 47.35904988946201\n",
      "XLearner pseudo_outcome_r 0.40788540779731103\n",
      "XLearner pseudo_outcome_dr 0.8505445472334389\n",
      "DRLearner\n",
      "DRLearner if_pehe 58.064512304633936\n",
      "DRLearner pseudo_outcome_r 0.4285006485114753\n",
      "DRLearner pseudo_outcome_dr 0.8883961034890184\n",
      "SLearner\n",
      "SLearner if_pehe 0.30767972263572363\n",
      "SLearner pseudo_outcome_r 0.38649332306236117\n",
      "SLearner pseudo_outcome_dr 0.7959641128172676\n",
      "TLearner\n",
      "TLearner if_pehe 36.251844804948675\n",
      "TLearner pseudo_outcome_r 0.39720098677169635\n",
      "TLearner pseudo_outcome_dr 0.8184201921795603\n"
     ]
    }
   ],
   "source": [
    "for learner, learner_results in results.items():\n",
    "    print(learner)\n",
    "    \n",
    "    for sec in [\"if_pehe\", \"pseudo_outcome_r\", \"pseudo_outcome_dr\"]:\n",
    "        \n",
    "        print(learner, sec, np.mean(learner_results[sec]))\n",
    "    "
   ]
  },
  {
   "cell_type": "code",
   "execution_count": null,
   "id": "d94608e7-9a18-4639-8834-25e5fb0caf1b",
   "metadata": {},
   "outputs": [],
   "source": []
  }
 ],
 "metadata": {
  "kernelspec": {
   "display_name": "Python 3 (ipykernel)",
   "language": "python",
   "name": "python3"
  },
  "language_info": {
   "codemirror_mode": {
    "name": "ipython",
    "version": 3
   },
   "file_extension": ".py",
   "mimetype": "text/x-python",
   "name": "python",
   "nbconvert_exporter": "python",
   "pygments_lexer": "ipython3",
   "version": "3.8.13"
  }
 },
 "nbformat": 4,
 "nbformat_minor": 5
}
