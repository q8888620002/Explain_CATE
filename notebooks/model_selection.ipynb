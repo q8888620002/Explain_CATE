{
 "cells": [
  {
   "cell_type": "code",
   "execution_count": 46,
   "id": "f3b35010-4dac-485c-82a5-23e4e4384a6b",
   "metadata": {},
   "outputs": [],
   "source": [
    "import pandas as pd\n",
    "import numpy as np\n",
    "import pickle as pkl\n"
   ]
  },
  {
   "cell_type": "code",
   "execution_count": 56,
   "id": "aca3e6fb-7cbe-44e0-8308-1536c745d6f5",
   "metadata": {},
   "outputs": [],
   "source": [
    "results = pkl.load(open(\"../results/crash_2/model_selection.pkl\", \"rb\"))"
   ]
  },
  {
   "cell_type": "code",
   "execution_count": 57,
   "id": "5a7057ca-daf1-4db0-b9a0-cc9493913118",
   "metadata": {},
   "outputs": [
    {
     "name": "stdout",
     "output_type": "stream",
     "text": [
      "XLearner\n",
      "XLearner if_pehe 9.366961314840449 31.488757615487984\n",
      "XLearner pseudo_outcome_r 0.3585045609639626 0.014656263621517625\n",
      "XLearner pseudo_outcome_dr 0.6742749186172005 0.027601976211862948\n",
      "DRLearner\n",
      "DRLearner if_pehe 31.367436630536776 30.887243314195064\n",
      "DRLearner pseudo_outcome_r 0.363165510176278 0.015318492673218383\n",
      "DRLearner pseudo_outcome_dr 0.686630341613295 0.03037959627052544\n",
      "SLearner\n",
      "SLearner if_pehe 7.114986210334632 29.438012502041804\n",
      "SLearner pseudo_outcome_r 0.354363845559711 0.014431207843999328\n",
      "SLearner pseudo_outcome_dr 0.6658773340418405 0.025336351570467312\n",
      "TLearner\n",
      "TLearner if_pehe 13.39219045691957 31.925965344238534\n",
      "TLearner pseudo_outcome_r 0.3552890698753877 0.01559112733405789\n",
      "TLearner pseudo_outcome_dr 0.6685809944705323 0.02732673721603396\n",
      "RALearner\n",
      "RALearner if_pehe 3.0495588647121545 29.428536866502935\n",
      "RALearner pseudo_outcome_r 0.35247646956631606 0.01503767570271402\n",
      "RALearner pseudo_outcome_dr 0.6632786359247761 0.02613134074310019\n",
      "TARNet\n",
      "TARNet if_pehe 6.117751711153096 26.763434233629077\n",
      "TARNet pseudo_outcome_r 0.35118289735262875 0.015561866027756962\n",
      "TARNet pseudo_outcome_dr 0.6602493585833011 0.027195249238045973\n",
      "DragonNet\n",
      "DragonNet if_pehe 5.854719623897106 26.683316974320057\n",
      "DragonNet pseudo_outcome_r 0.3511312450238795 0.015552602202864441\n",
      "DragonNet pseudo_outcome_dr 0.660058363742784 0.02716853635887248\n",
      "CFRNet_0.01\n",
      "CFRNet_0.01 if_pehe 5.999161164356102 26.525401044591092\n",
      "CFRNet_0.01 pseudo_outcome_r 0.35113522669844577 0.015531052981959236\n",
      "CFRNet_0.01 pseudo_outcome_dr 0.6600661864197874 0.027292193340205304\n",
      "CFRNet_0.001\n",
      "CFRNet_0.001 if_pehe 6.468841175632744 26.450045232542962\n",
      "CFRNet_0.001 pseudo_outcome_r 0.35107800542121537 0.01559307915399493\n",
      "CFRNet_0.001 pseudo_outcome_dr 0.659869045186944 0.02721109470013883\n"
     ]
    }
   ],
   "source": [
    "for learner, learner_results in results.items():\n",
    "    print(learner)\n",
    "    \n",
    "    for sec in [\"if_pehe\", \"pseudo_outcome_r\", \"pseudo_outcome_dr\"]:\n",
    "        \n",
    "        print(learner, sec, np.mean(learner_results[sec]), np.std(learner_results[sec]))\n",
    "    "
   ]
  },
  {
   "cell_type": "code",
   "execution_count": null,
   "id": "d94608e7-9a18-4639-8834-25e5fb0caf1b",
   "metadata": {},
   "outputs": [],
   "source": []
  }
 ],
 "metadata": {
  "kernelspec": {
   "display_name": "Python 3 (ipykernel)",
   "language": "python",
   "name": "python3"
  },
  "language_info": {
   "codemirror_mode": {
    "name": "ipython",
    "version": 3
   },
   "file_extension": ".py",
   "mimetype": "text/x-python",
   "name": "python",
   "nbconvert_exporter": "python",
   "pygments_lexer": "ipython3",
   "version": "3.8.13"
  }
 },
 "nbformat": 4,
 "nbformat_minor": 5
}
