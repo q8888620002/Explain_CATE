{
 "cells": [
  {
   "cell_type": "code",
   "execution_count": 8,
   "id": "f3b35010-4dac-485c-82a5-23e4e4384a6b",
   "metadata": {},
   "outputs": [],
   "source": [
    "import pandas as pd\n",
    "import numpy as np\n",
    "import pickle as pkl\n",
    "import os,sys\n",
    "\n",
    "module_path = os.path.abspath(os.path.join('../CATENets/'))\n",
    "if module_path not in sys.path:\n",
    "    sys.path.append(module_path)\n",
    "\n",
    "import catenets.models.torch.pseudo_outcome_nets as pseudo_outcome_nets"
   ]
  },
  {
   "cell_type": "code",
   "execution_count": 11,
   "id": "aca3e6fb-7cbe-44e0-8308-1536c745d6f5",
   "metadata": {},
   "outputs": [],
   "source": [
    "# shuffle = True\n",
    "\n",
    "results = pkl.load(open(\"../results/txa/model_selection_shuffle_True.pkl\", \"rb\"))"
   ]
  },
  {
   "cell_type": "code",
   "execution_count": 12,
   "id": "5a7057ca-daf1-4db0-b9a0-cc9493913118",
   "metadata": {},
   "outputs": [
    {
     "name": "stdout",
     "output_type": "stream",
     "text": [
      "XLearner\n",
      "XLearner if_pehe 73.16134553680328 185.12254677109664\n",
      "XLearner pseudo_outcome_r 0.4676302750959924 0.0498304704290838\n",
      "XLearner pseudo_outcome_dr 5.25388657212171 6.284659563295382\n",
      "XLearner_ensemble\n",
      "XLearner_ensemble if_pehe 44.451370792328945 214.82790449711626\n",
      "XLearner_ensemble pseudo_outcome_r 0.4616795273481914 0.04880351814028859\n",
      "XLearner_ensemble pseudo_outcome_dr 5.250096012025906 6.279851413680975\n",
      "DRLearner\n",
      "DRLearner if_pehe 226.65257084210697 441.1047171633892\n",
      "DRLearner pseudo_outcome_r 0.490734213598121 0.04064562435366796\n",
      "DRLearner pseudo_outcome_dr 5.282854756121053 6.280677208904455\n",
      "SLearner\n",
      "SLearner if_pehe 5.983768789751872 116.5211248384474\n",
      "SLearner pseudo_outcome_r 0.46478364885998413 0.04717486029614263\n",
      "SLearner pseudo_outcome_dr 5.259626131618989 6.294464494499842\n",
      "TLearner\n",
      "TLearner if_pehe 134.01183458872748 411.4075620407936\n",
      "TLearner pseudo_outcome_r 0.4657810368116492 0.05285711433837851\n",
      "TLearner pseudo_outcome_dr 5.254441156125877 6.302895365351201\n",
      "RLearner\n",
      "RLearner if_pehe -45.524938134478134 172.29265589995168\n",
      "RLearner pseudo_outcome_r 0.46691829091436643 0.044962728635310825\n",
      "RLearner pseudo_outcome_dr 5.2514240192487645 6.273565068303844\n",
      "RALearner\n",
      "RALearner if_pehe -9.841473680099234 130.70680307518245\n",
      "RALearner pseudo_outcome_r 0.46528162351842867 0.05139666900557733\n",
      "RALearner pseudo_outcome_dr 5.261011568137233 6.288255950103308\n"
     ]
    }
   ],
   "source": [
    "for learner, learner_results in results.items():\n",
    "    \n",
    "    print(learner)\n",
    "    \n",
    "    for sec in [\"if_pehe\", \"pseudo_outcome_r\", \"pseudo_outcome_dr\"]:\n",
    "        \n",
    "        print(learner, sec, np.mean(learner_results[sec]), np.std(learner_results[sec]))\n"
   ]
  },
  {
   "cell_type": "code",
   "execution_count": null,
   "id": "d94608e7-9a18-4639-8834-25e5fb0caf1b",
   "metadata": {},
   "outputs": [],
   "source": []
  }
 ],
 "metadata": {
  "kernelspec": {
   "display_name": "Python 3 (ipykernel)",
   "language": "python",
   "name": "python3"
  },
  "language_info": {
   "codemirror_mode": {
    "name": "ipython",
    "version": 3
   },
   "file_extension": ".py",
   "mimetype": "text/x-python",
   "name": "python",
   "nbconvert_exporter": "python",
   "pygments_lexer": "ipython3",
   "version": "3.8.13"
  }
 },
 "nbformat": 4,
 "nbformat_minor": 5
}
