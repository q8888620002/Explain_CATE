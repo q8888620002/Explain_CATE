{
 "cells": [
  {
   "cell_type": "code",
   "execution_count": 16,
   "id": "f3b35010-4dac-485c-82a5-23e4e4384a6b",
   "metadata": {},
   "outputs": [],
   "source": [
    "import pandas as pd\n",
    "import numpy as np\n",
    "import pickle as pkl"
   ]
  },
  {
   "cell_type": "code",
   "execution_count": 81,
   "id": "aca3e6fb-7cbe-44e0-8308-1536c745d6f5",
   "metadata": {},
   "outputs": [],
   "source": [
    "# shuffle = True\n",
    "\n",
    "results = pkl.load(open(\"../results/ist3/model_selection_shuffle_True.pkl\", \"rb\"))"
   ]
  },
  {
   "cell_type": "code",
   "execution_count": 82,
   "id": "5a7057ca-daf1-4db0-b9a0-cc9493913118",
   "metadata": {},
   "outputs": [
    {
     "name": "stdout",
     "output_type": "stream",
     "text": [
      "XLearner\n",
      "XLearner if_pehe 32.89394370530603 32.347509010739216\n",
      "XLearner pseudo_outcome_r 0.4672908729027535 0.009089924086456171\n",
      "XLearner pseudo_outcome_dr 0.9514744354360838 0.024823022214305067\n",
      "DRLearner\n",
      "DRLearner if_pehe 70.17459807804754 42.36233764836213\n",
      "DRLearner pseudo_outcome_r 0.47478380637291534 0.00963699455888535\n",
      "DRLearner pseudo_outcome_dr 0.9646376594435766 0.02362379470125624\n",
      "SLearner\n",
      "SLearner if_pehe 8.728692901697432 38.01495670809201\n",
      "SLearner pseudo_outcome_r 0.46195778302558066 0.010367591626102773\n",
      "SLearner pseudo_outcome_dr 0.9415154836912617 0.025107041167188558\n",
      "TLearner\n",
      "TLearner if_pehe 24.543818139182598 32.86135477688247\n",
      "TLearner pseudo_outcome_r 0.46595873056852505 0.009841593138999615\n",
      "TLearner pseudo_outcome_dr 0.9484421180686983 0.023292009965554063\n",
      "RLearner\n",
      "RLearner if_pehe 7.707658733529134 36.53364421822159\n",
      "RLearner pseudo_outcome_r 0.46132932601635385 0.01101660623237128\n",
      "RLearner pseudo_outcome_dr 0.9394581970210977 0.026094754509759437\n",
      "RALearner\n",
      "RALearner if_pehe 11.432334118158025 36.094614303993055\n",
      "RALearner pseudo_outcome_r 0.46204383101143237 0.010373947164078566\n",
      "RALearner pseudo_outcome_dr 0.9410652483912314 0.025640724712345197\n",
      "TARNet\n",
      "TARNet if_pehe -4.2715769070550795 31.438176556153024\n",
      "TARNet pseudo_outcome_r 0.4589005321006711 0.010728723857387426\n",
      "TARNet pseudo_outcome_dr 0.9360845227372737 0.026791313202843364\n",
      "DragonNet\n",
      "DragonNet if_pehe -3.66626078556794 31.355026003637754\n",
      "DragonNet pseudo_outcome_r 0.45898514426135345 0.010484045389698889\n",
      "DragonNet pseudo_outcome_dr 0.9362867285939771 0.026353168132087164\n",
      "CFRNet_0.01\n",
      "CFRNet_0.01 if_pehe -4.285788061009934 31.282953598276592\n",
      "CFRNet_0.01 pseudo_outcome_r 0.4590420587950928 0.010819870163646186\n",
      "CFRNet_0.01 pseudo_outcome_dr 0.9363350730662627 0.027149426863044418\n",
      "CFRNet_0.001\n",
      "CFRNet_0.001 if_pehe -4.333177364321545 31.450739840881656\n",
      "CFRNet_0.001 pseudo_outcome_r 0.45899352634813634 0.010598756489335268\n",
      "CFRNet_0.001 pseudo_outcome_dr 0.9363043475570454 0.026384830034604168\n"
     ]
    }
   ],
   "source": [
    "for learner, learner_results in results.items():\n",
    "    print(learner)\n",
    "    \n",
    "    for sec in [\"if_pehe\", \"pseudo_outcome_r\", \"pseudo_outcome_dr\"]:\n",
    "        \n",
    "        print(learner, sec, np.mean(learner_results[sec]), np.std(learner_results[sec]))\n",
    "    "
   ]
  },
  {
   "cell_type": "code",
   "execution_count": null,
   "id": "d94608e7-9a18-4639-8834-25e5fb0caf1b",
   "metadata": {},
   "outputs": [],
   "source": []
  }
 ],
 "metadata": {
  "kernelspec": {
   "display_name": "Python 3 (ipykernel)",
   "language": "python",
   "name": "python3"
  },
  "language_info": {
   "codemirror_mode": {
    "name": "ipython",
    "version": 3
   },
   "file_extension": ".py",
   "mimetype": "text/x-python",
   "name": "python",
   "nbconvert_exporter": "python",
   "pygments_lexer": "ipython3",
   "version": "3.8.13"
  }
 },
 "nbformat": 4,
 "nbformat_minor": 5
}
