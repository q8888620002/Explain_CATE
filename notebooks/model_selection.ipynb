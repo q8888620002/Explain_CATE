{
 "cells": [
  {
   "cell_type": "code",
   "execution_count": 16,
   "id": "f3b35010-4dac-485c-82a5-23e4e4384a6b",
   "metadata": {},
   "outputs": [],
   "source": [
    "import pandas as pd\n",
    "import numpy as np\n",
    "import pickle as pkl"
   ]
  },
  {
   "cell_type": "code",
   "execution_count": 83,
   "id": "aca3e6fb-7cbe-44e0-8308-1536c745d6f5",
   "metadata": {},
   "outputs": [],
   "source": [
    "# shuffle = True\n",
    "\n",
    "results = pkl.load(open(\"../results/crash_2/model_selection_shuffle_True.pkl\", \"rb\"))"
   ]
  },
  {
   "cell_type": "code",
   "execution_count": 84,
   "id": "5a7057ca-daf1-4db0-b9a0-cc9493913118",
   "metadata": {},
   "outputs": [
    {
     "name": "stdout",
     "output_type": "stream",
     "text": [
      "XLearner\n",
      "XLearner if_pehe -3.9102465458572624 22.5894565727775\n",
      "XLearner pseudo_outcome_r 0.3241320898120587 0.004810642608310448\n",
      "XLearner pseudo_outcome_dr 0.6959794999462814 0.013465551404811836\n",
      "DRLearner\n",
      "DRLearner if_pehe -4.142917499456462 52.754798623940566\n",
      "DRLearner pseudo_outcome_r 0.3243910679816027 0.0041920187797287135\n",
      "DRLearner pseudo_outcome_dr 0.6969906163554714 0.01201185506632268\n",
      "SLearner\n",
      "SLearner if_pehe -34.326718605677705 46.15804938755527\n",
      "SLearner pseudo_outcome_r 0.3224761735800485 0.004249139776918623\n",
      "SLearner pseudo_outcome_dr 0.6928256318922735 0.012083831705407885\n",
      "TLearner\n",
      "TLearner if_pehe -15.517754049884228 32.07485494970943\n",
      "TLearner pseudo_outcome_r 0.32358320075669 0.005062191217803197\n",
      "TLearner pseudo_outcome_dr 0.6954798365433397 0.013383696449574392\n",
      "RLearner\n",
      "RLearner if_pehe -33.043616043915605 38.356661673799145\n",
      "RLearner pseudo_outcome_r 0.3221297874753258 0.004320118161976634\n",
      "RLearner pseudo_outcome_dr 0.6921562622162268 0.01250315594382006\n",
      "RALearner\n",
      "RALearner if_pehe -22.781354096837344 38.65200379038754\n",
      "RALearner pseudo_outcome_r 0.32210747988498106 0.004471035076815633\n",
      "RALearner pseudo_outcome_dr 0.6920841439362551 0.012640170202482764\n",
      "TARNet\n",
      "TARNet if_pehe 15.776855276978665 36.941171096905656\n",
      "TARNet pseudo_outcome_r 0.321623414011337 0.004443434483332038\n",
      "TARNet pseudo_outcome_dr 0.6912815408950618 0.012776267586841224\n",
      "DragonNet\n",
      "DragonNet if_pehe 17.159686831459272 35.33005873650618\n",
      "DragonNet pseudo_outcome_r 0.3216128248168533 0.004460915690668264\n",
      "DragonNet pseudo_outcome_dr 0.6912873068832218 0.012786366836694346\n",
      "CFRNet_0.01\n",
      "CFRNet_0.01 if_pehe 14.634100815700531 36.09558584158337\n",
      "CFRNet_0.01 pseudo_outcome_r 0.3216247967954736 0.0044697780521798505\n",
      "CFRNet_0.01 pseudo_outcome_dr 0.6913144909788086 0.012737327044928857\n",
      "CFRNet_0.001\n",
      "CFRNet_0.001 if_pehe 16.133270266723905 36.706574821364775\n",
      "CFRNet_0.001 pseudo_outcome_r 0.3216073178144383 0.004436730992409411\n",
      "CFRNet_0.001 pseudo_outcome_dr 0.6913122220946143 0.012771127032876759\n"
     ]
    }
   ],
   "source": [
    "for learner, learner_results in results.items():\n",
    "    print(learner)\n",
    "    \n",
    "    for sec in [\"if_pehe\", \"pseudo_outcome_r\", \"pseudo_outcome_dr\"]:\n",
    "        \n",
    "        print(learner, sec, np.mean(learner_results[sec]), np.std(learner_results[sec]))\n",
    "    "
   ]
  },
  {
   "cell_type": "code",
   "execution_count": null,
   "id": "d94608e7-9a18-4639-8834-25e5fb0caf1b",
   "metadata": {},
   "outputs": [],
   "source": []
  }
 ],
 "metadata": {
  "kernelspec": {
   "display_name": "Python 3 (ipykernel)",
   "language": "python",
   "name": "python3"
  },
  "language_info": {
   "codemirror_mode": {
    "name": "ipython",
    "version": 3
   },
   "file_extension": ".py",
   "mimetype": "text/x-python",
   "name": "python",
   "nbconvert_exporter": "python",
   "pygments_lexer": "ipython3",
   "version": "3.8.13"
  }
 },
 "nbformat": 4,
 "nbformat_minor": 5
}
