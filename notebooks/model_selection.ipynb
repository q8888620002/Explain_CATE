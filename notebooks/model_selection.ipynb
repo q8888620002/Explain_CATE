{
 "cells": [
  {
   "cell_type": "code",
   "execution_count": 2,
   "id": "f3b35010-4dac-485c-82a5-23e4e4384a6b",
   "metadata": {},
   "outputs": [
    {
     "name": "stderr",
     "output_type": "stream",
     "text": [
      "/homes/gws/mingyulu/miniconda3/envs/torch_gpu/lib/python3.8/site-packages/tqdm/auto.py:21: TqdmWarning: IProgress not found. Please update jupyter and ipywidgets. See https://ipywidgets.readthedocs.io/en/stable/user_install.html\n",
      "  from .autonotebook import tqdm as notebook_tqdm\n"
     ]
    }
   ],
   "source": [
    "import pandas as pd\n",
    "import numpy as np\n",
    "import pickle as pkl\n",
    "import os,sys\n",
    "\n",
    "module_path = os.path.abspath(os.path.join('../CATENets/'))\n",
    "if module_path not in sys.path:\n",
    "    sys.path.append(module_path)\n",
    "\n",
    "import catenets.models.torch.pseudo_outcome_nets as pseudo_outcome_nets"
   ]
  },
  {
   "cell_type": "code",
   "execution_count": 3,
   "id": "aca3e6fb-7cbe-44e0-8308-1536c745d6f5",
   "metadata": {},
   "outputs": [],
   "source": [
    "# shuffle = True\n",
    "\n",
    "results = pkl.load(open(\"../results/ist3/model_selection_shuffle_True.pkl\", \"rb\"))"
   ]
  },
  {
   "cell_type": "code",
   "execution_count": 4,
   "id": "5a7057ca-daf1-4db0-b9a0-cc9493913118",
   "metadata": {},
   "outputs": [
    {
     "name": "stdout",
     "output_type": "stream",
     "text": [
      "XLearner\n",
      "XLearner if_pehe 57.052193432732466 37.09574328098401\n",
      "XLearner pseudo_outcome_r 0.5303169819808384 0.017165926433319274\n",
      "XLearner pseudo_outcome_dr 0.9511621570423496 0.025770913829192412\n",
      "XLearner_ensemble\n",
      "XLearner_ensemble if_pehe 38.393566023563395 34.17455433097909\n",
      "XLearner_ensemble pseudo_outcome_r 0.5271952921366914 0.0163473569258084\n",
      "XLearner_ensemble pseudo_outcome_dr 0.9443355417884487 0.02378842924787592\n"
     ]
    }
   ],
   "source": [
    "for learner, learner_results in results.items():\n",
    "    \n",
    "    print(learner)\n",
    "    \n",
    "    for sec in [\"if_pehe\", \"pseudo_outcome_r\", \"pseudo_outcome_dr\"]:\n",
    "        \n",
    "        print(learner, sec, np.mean(learner_results[sec]), np.std(learner_results[sec]))\n"
   ]
  },
  {
   "cell_type": "code",
   "execution_count": null,
   "id": "d94608e7-9a18-4639-8834-25e5fb0caf1b",
   "metadata": {},
   "outputs": [],
   "source": []
  }
 ],
 "metadata": {
  "kernelspec": {
   "display_name": "Python 3 (ipykernel)",
   "language": "python",
   "name": "python3"
  },
  "language_info": {
   "codemirror_mode": {
    "name": "ipython",
    "version": 3
   },
   "file_extension": ".py",
   "mimetype": "text/x-python",
   "name": "python",
   "nbconvert_exporter": "python",
   "pygments_lexer": "ipython3",
   "version": "3.8.13"
  }
 },
 "nbformat": 4,
 "nbformat_minor": 5
}
