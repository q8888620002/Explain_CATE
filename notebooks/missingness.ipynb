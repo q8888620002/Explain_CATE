{
 "cells": [
  {
   "cell_type": "code",
   "execution_count": 1,
   "id": "9487882a-0101-4567-8e8e-0cf8f7a28504",
   "metadata": {},
   "outputs": [
    {
     "name": "stderr",
     "output_type": "stream",
     "text": [
      "/homes/gws/mingyulu/miniconda3/envs/torch_gpu/lib/python3.8/site-packages/tqdm/auto.py:22: TqdmWarning: IProgress not found. Please update jupyter and ipywidgets. See https://ipywidgets.readthedocs.io/en/stable/user_install.html\n",
      "  from .autonotebook import tqdm as notebook_tqdm\n"
     ]
    }
   ],
   "source": [
    "import os\n",
    "import sys\n",
    "import xgboost\n",
    "import shap\n",
    "import argparse\n",
    "import pickle as pkl\n",
    "\n",
    "import matplotlib.pyplot as plt\n",
    "\n",
    "from scipy import stats\n",
    "from utilities import *\n",
    "from models import *\n",
    "from sklearn import preprocessing\n",
    "from shapreg import removal, games, shapley\n",
    "\n",
    "#### import CATE model\n",
    "module_path = os.path.abspath(os.path.join('CATENets/'))\n",
    "\n",
    "if module_path not in sys.path:\n",
    "    sys.path.append(module_path)\n",
    "\n",
    "from catenets.models.jax import TNet, SNet,SNet1, SNet2, SNet3, DRNet, RANet, PWNet, RNet, XNet\n",
    "import catenets.models as cate_models    "
   ]
  },
  {
   "cell_type": "code",
   "execution_count": 2,
   "id": "c8f34e08",
   "metadata": {},
   "outputs": [
    {
     "name": "stderr",
     "output_type": "stream",
     "text": [
      "covariance is not positive-semidefinite.\n",
      "covariance is not positive-semidefinite.\n"
     ]
    },
    {
     "name": "stdout",
     "output_type": "stream",
     "text": [
      "phe is 7.255140121916818\n"
     ]
    },
    {
     "name": "stderr",
     "output_type": "stream",
     "text": [
      " 51%|█████▏    | 0.513/1 [09:18<08:49, 1088.24s/it] "
     ]
    }
   ],
   "source": [
    "n = 1000\n",
    "feature_size = 5\n",
    "random_state = 0\n",
    "\n",
    "X, y_po, w, p, KL = simulation(feature_size, n, 0, 0, random_state, False)\n",
    "\n",
    "min_max_scaler = preprocessing.MinMaxScaler()\n",
    "X_scaled = min_max_scaler.fit_transform(X)\n",
    "\n",
    "#print(KL)\n",
    "rng = np.random.default_rng(random_state)\n",
    "inds = np.arange(n)\n",
    "rng.shuffle(inds)\n",
    "\n",
    "n_train = int(0.8 * n)\n",
    "\n",
    "train_inds = inds[:n_train]\n",
    "test_inds = inds[n_train:]\n",
    "\n",
    "x_oracle_train = torch.from_numpy(X_scaled[train_inds,:])\n",
    "w_oracle_train = torch.from_numpy(w[train_inds,:])\n",
    "y_oracle_train = torch.from_numpy(np.take_along_axis(y_po,w, 1)[train_inds, :])\n",
    "y_test_cate = y_po[test_inds, 1] - y_po[test_inds, 0]\n",
    "\n",
    "### Create Cate model \n",
    "\n",
    "torch_DR = cate_models.torch.DRLearner(\n",
    "            2*feature_size,\n",
    "            binary_y=(len(np.unique(y_po)) == 2),\n",
    "            n_layers_out=2,\n",
    "            n_units_out=100,\n",
    "            n_iter=1000,\n",
    "            batch_size=128,\n",
    "            batch_norm=False,\n",
    "            nonlin=\"relu\",\n",
    "            )\n",
    "\n",
    "cate_model = Cate(torch_DR, MaskLayer())\n",
    "\n",
    "### Train model with maskes\n",
    "\n",
    "cate_model.fit(x_oracle_train ,y_oracle_train, w_oracle_train)\n",
    "\n",
    "x_oracle_test = torch.from_numpy(X_scaled[test_inds,:])\n",
    "w_oracle_test = torch.from_numpy(w[test_inds,:])\n",
    "test_mask = torch.ones(x_oracle_test.size()[0],x_oracle_test.size()[1])\n",
    "test_phe = cate_model.predict(x_oracle_test, test_mask).cpu().detach().numpy()\n",
    "\n",
    "print(\"phe is %s\" %mse(test_phe, y_test_cate))\n",
    "\n",
    "#### Explanation method\n",
    "\n",
    "# Make model callable\n",
    "model_lam = lambda x, x_mask: cate_model.predict(x, x_mask)\n",
    "\n",
    "# Model extension\n",
    "\n",
    "instance = torch.reshape(torch.from_numpy(X_scaled[0, :]), (1,-1))\n",
    "\n",
    "game  = games.CateGame(instance, cate_model)\n",
    "explanation = shapley.ShapleyRegression(game, batch_size=32)\n",
    "\n",
    "# Plot with 95% confidence intervals\n",
    "names = [\"feature \" + str(i) for i in range(feature_size)]"
   ]
  }
 ],
 "metadata": {
  "kernelspec": {
   "display_name": "Python 3 (ipykernel)",
   "language": "python",
   "name": "python3"
  },
  "language_info": {
   "codemirror_mode": {
    "name": "ipython",
    "version": 3
   },
   "file_extension": ".py",
   "mimetype": "text/x-python",
   "name": "python",
   "nbconvert_exporter": "python",
   "pygments_lexer": "ipython3",
   "version": "3.8.13"
  },
  "vscode": {
   "interpreter": {
    "hash": "defcc9ef1a3840c0eead212c1f25830d5dbe4cf05a03f29367a5036b3b1f022a"
   }
  }
 },
 "nbformat": 4,
 "nbformat_minor": 5
}
