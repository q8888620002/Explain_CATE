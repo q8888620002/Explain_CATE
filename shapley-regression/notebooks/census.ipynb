{
 "cells": [
  {
   "cell_type": "markdown",
   "metadata": {},
   "source": [
    "# Load data, train model"
   ]
  },
  {
   "cell_type": "code",
   "execution_count": 1,
   "metadata": {},
   "outputs": [
    {
     "name": "stderr",
     "output_type": "stream",
     "text": [
      "/homes/gws/mingyulu/miniconda3/envs/torch_gpu/lib/python3.8/site-packages/tqdm/auto.py:22: TqdmWarning: IProgress not found. Please update jupyter and ipywidgets. See https://ipywidgets.readthedocs.io/en/stable/user_install.html\n",
      "  from .autonotebook import tqdm as notebook_tqdm\n"
     ]
    }
   ],
   "source": [
    "import shap\n",
    "import pickle\n",
    "import lightgbm as lgb\n",
    "import matplotlib.pyplot as plt\n",
    "\n",
    "from sklearn.model_selection import train_test_split"
   ]
  },
  {
   "cell_type": "code",
   "execution_count": 2,
   "metadata": {},
   "outputs": [],
   "source": [
    "# Load data\n",
    "X, y = shap.datasets.adult()\n",
    "X_display, y_display = shap.datasets.adult(display=True)\n",
    "num_features = X.shape[1]\n",
    "\n",
    "# Split data\n",
    "X_train, X_test, y_train, y_test = train_test_split(X, y, test_size=0.2, random_state=7)\n",
    "d_train = lgb.Dataset(X_train, label=y_train)\n",
    "d_tx_train = lgb.Dataset(X_train.loc[:, ~X_train.columns.isin([\"Sex\"])], label=X_train[\"Sex\"])\n",
    "\n",
    "d_tx_test = lgb.Dataset(X_test.loc[:, ~X_test.columns.isin([\"Sex\"])], label=X_test[\"Sex\"])\n",
    "d_test = lgb.Dataset(X_test, label=y_test)"
   ]
  },
  {
   "cell_type": "code",
   "execution_count": 4,
   "metadata": {},
   "outputs": [
    {
     "data": {
      "text/plain": [
       "array([[ 39.,   4.,  10., ..., 625.,  40.,  39.],\n",
       "       [ 48.,   1.,  13., ...,   0.,  58.,  39.],\n",
       "       [ 22.,   4.,  10., ...,   0.,  35.,  39.],\n",
       "       ...,\n",
       "       [ 19.,   4.,   9., ...,   0.,  40.,  39.],\n",
       "       [ 73.,   5.,   6., ...,   0.,  40.,   2.],\n",
       "       [ 18.,   4.,  10., ...,   0.,  16.,  39.]])"
      ]
     },
     "execution_count": 4,
     "metadata": {},
     "output_type": "execute_result"
    }
   ],
   "source": [
    "X_test.values[:512]"
   ]
  },
  {
   "cell_type": "code",
   "execution_count": 14,
   "metadata": {},
   "outputs": [
    {
     "name": "stderr",
     "output_type": "stream",
     "text": [
      "'early_stopping_rounds' argument is deprecated and will be removed in a future release of LightGBM. Pass 'early_stopping()' callback via 'callbacks' argument instead.\n",
      "'verbose_eval' argument is deprecated and will be removed in a future release of LightGBM. Pass 'log_evaluation()' callback via 'callbacks' argument instead.\n"
     ]
    },
    {
     "name": "stdout",
     "output_type": "stream",
     "text": [
      "Training until validation scores don't improve for 50 rounds\n",
      "Early stopping, best iteration is:\n",
      "[644]\tvalid_0's binary_logloss: 0.278029\n",
      "Training until validation scores don't improve for 50 rounds\n",
      "Early stopping, best iteration is:\n",
      "[317]\tvalid_0's binary_logloss: 0.284236\n"
     ]
    }
   ],
   "source": [
    "# Train model\n",
    "params = {\n",
    "    \"max_bin\": 512,\n",
    "    \"learning_rate\": 0.05,\n",
    "    \"boosting_type\": \"gbdt\",\n",
    "    \"objective\": \"binary\",\n",
    "    \"metric\": \"binary_logloss\",\n",
    "    \"num_leaves\": 10,\n",
    "    \"verbose\": -1,\n",
    "    \"min_data\": 100,\n",
    "    \"boost_from_average\": True\n",
    "}\n",
    "\n",
    "model = lgb.train(params, d_train, 10000, valid_sets=[d_test], early_stopping_rounds=50, verbose_eval=1000)\n",
    "\n",
    "tx_model = lgb.train(params, d_tx_train, 10000, valid_sets=[d_tx_test], early_stopping_rounds=50, verbose_eval=1000)"
   ]
  },
  {
   "cell_type": "markdown",
   "metadata": {},
   "source": [
    "# SHAP cooperative game"
   ]
  },
  {
   "cell_type": "code",
   "execution_count": 15,
   "metadata": {},
   "outputs": [],
   "source": [
    "from shapreg import removal, games, shapley, shapley_sampling"
   ]
  },
  {
   "cell_type": "code",
   "execution_count": 16,
   "metadata": {},
   "outputs": [],
   "source": [
    "# Make model callable\n",
    "model_lam = lambda x: model.predict(x)\n",
    "tx_model_lam = lambda x: tx_model.predict(x)\n",
    "# Model extension\n",
    "marginal_extension = removal.MarginalExtension(X_test.values[:512], model_lam)\n",
    "\n",
    "## Interventional \n",
    "#interventional_extension = removal.InterventionalExtension(X_test.values[:512], model_lam,tx_model_lam ,0.2)"
   ]
  },
  {
   "cell_type": "code",
   "execution_count": 17,
   "metadata": {},
   "outputs": [
    {
     "name": "stdout",
     "output_type": "stream",
     "text": [
      "[3.900e+01 7.000e+00 1.300e+01 4.000e+00 1.000e+00 0.000e+00 4.000e+00\n",
      " 1.000e+00 2.174e+03 0.000e+00 4.000e+01 3.900e+01]\n"
     ]
    }
   ],
   "source": [
    "# Set up game (single prediction)\n",
    "instance = X.values[0]\n",
    "print(instance)\n",
    "game = games.PredictionGame(marginal_extension, instance)"
   ]
  },
  {
   "cell_type": "code",
   "execution_count": 11,
   "metadata": {},
   "outputs": [
    {
     "name": "stderr",
     "output_type": "stream",
     "text": [
      "100%|███████████████████████████████████████████████| 1/1 [00:03<00:00,  3.86s/it]\n"
     ]
    },
    {
     "data": {
      "text/plain": [
       "Shapley Values(\n",
       "  (Mean): [ 0.00 -0.01  0.03 -0.04 -0.01 -0.06  0.00  0.01 -0.13 -0.00 -0.01 -0.00]\n",
       "  (Std):  [0.00 0.00 0.00 0.00 0.00 0.00 0.00 0.00 0.00 0.00 0.00 0.00]\n",
       ")"
      ]
     },
     "execution_count": 11,
     "metadata": {},
     "output_type": "execute_result"
    }
   ],
   "source": [
    "# Run estimator\n",
    "explanation = shapley.ShapleyRegression(game, batch_size=32)\n",
    "explanation"
   ]
  },
  {
   "cell_type": "code",
   "execution_count": 10,
   "metadata": {},
   "outputs": [
    {
     "data": {
      "image/png": "[encoded data removed]",
      "text/plain": [
       "<Figure size 720x504 with 1 Axes>"
      ]
     },
     "metadata": {
      "needs_background": "light"
     },
     "output_type": "display_data"
    }
   ],
   "source": [
    "# Plot with 95% confidence intervals\n",
    "feature_names = X.columns.tolist()    \n",
    "explanation.plot(feature_names, title='SHAP Values', sort_features=False)"
   ]
  },
  {
   "cell_type": "markdown",
   "metadata": {},
   "source": [
    "# LossSHAP cooperative game"
   ]
  },
  {
   "cell_type": "code",
   "execution_count": 9,
   "metadata": {},
   "outputs": [],
   "source": [
    "from shapreg.utils import crossentropyloss"
   ]
  },
  {
   "cell_type": "code",
   "execution_count": 10,
   "metadata": {},
   "outputs": [],
   "source": [
    "# Set up game (single prediction)\n",
    "instance = X.values[1]\n",
    "label = y[1].astype(int)\n",
    "game = games.PredictionLossGame(marginal_extension, instance, label, crossentropyloss)"
   ]
  },
  {
   "cell_type": "code",
   "execution_count": 11,
   "metadata": {},
   "outputs": [
    {
     "data": {
      "application/vnd.jupyter.widget-view+json": {
       "model_id": "3446d0cfb03a4f8c912a6c8878678379",
       "version_major": 2,
       "version_minor": 0
      },
      "text/plain": [
       "  0%|          | 0/1 [00:00<?, ?it/s]"
      ]
     },
     "metadata": {},
     "output_type": "display_data"
    }
   ],
   "source": [
    "# Run estimator\n",
    "explanation = shapley.ShapleyRegression(game, batch_size=32)"
   ]
  },
  {
   "cell_type": "code",
   "execution_count": 12,
   "metadata": {},
   "outputs": [
    {
     "data": {
      "image/png": "[encoded data removed]",
      "text/plain": [
       "<Figure size 720x504 with 1 Axes>"
      ]
     },
     "metadata": {
      "needs_background": "light"
     },
     "output_type": "display_data"
    }
   ],
   "source": [
    "# Plot with 95% confidence intervals\n",
    "explanation.plot(feature_names, title='LossSHAP Values', sort_features=False)"
   ]
  },
  {
   "cell_type": "code",
   "execution_count": null,
   "metadata": {},
   "outputs": [],
   "source": []
  }
 ],
 "metadata": {
  "kernelspec": {
   "display_name": "Python 3 (ipykernel)",
   "language": "python",
   "name": "python3"
  },
  "language_info": {
   "codemirror_mode": {
    "name": "ipython",
    "version": 3
   },
   "file_extension": ".py",
   "mimetype": "text/x-python",
   "name": "python",
   "nbconvert_exporter": "python",
   "pygments_lexer": "ipython3",
   "version": "3.8.13"
  }
 },
 "nbformat": 4,
 "nbformat_minor": 4
}
